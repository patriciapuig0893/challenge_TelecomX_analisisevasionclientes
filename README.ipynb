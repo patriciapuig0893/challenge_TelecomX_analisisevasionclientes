{
  "nbformat": 4,
  "nbformat_minor": 0,
  "metadata": {
    "colab": {
      "provenance": [],
      "authorship_tag": "ABX9TyMBH/YsuOon7EYDz5GFUqYw",
      "include_colab_link": true
    },
    "kernelspec": {
      "name": "python3",
      "display_name": "Python 3"
    },
    "language_info": {
      "name": "python"
    }
  },
  "cells": [
    {
      "cell_type": "markdown",
      "metadata": {
        "id": "view-in-github",
        "colab_type": "text"
      },
      "source": [
        "<a href=\"https://colab.research.google.com/github/patriciapuig0893/challenge_TelecomX_analisisevasionclientes/blob/main/README.ipynb\" target=\"_parent\"><img src=\"https://colab.research.google.com/assets/colab-badge.svg\" alt=\"Open In Colab\"/></a>"
      ]
    },
    {
      "cell_type": "markdown",
      "source": [],
      "metadata": {
        "id": "w16xLk61efNV"
      }
    },
    {
      "cell_type": "markdown",
      "source": [
        "# TELECOM X - ANALISIS DE EVASION DE CLIENTES"
      ],
      "metadata": {
        "id": "jXFuZRuCeiOU"
      }
    },
    {
      "cell_type": "markdown",
      "source": [
        "## OBJETIVO\n",
        "\n",
        "---"
      ],
      "metadata": {
        "id": "X30MaAj7env1"
      }
    },
    {
      "cell_type": "markdown",
      "source": [
        "El objetivo de este proyecto es analizar los datos históricos de clientes de **Telecom X** para comprender los factores que influyen en la evasión (churn) de  clientes. A través de técnicas de limpieza, transformación y análisis exploratorio de datos, se busca extraer insights útiles que permitan crear funciones estratégicas de retención, así como alimentar modelos predictivos que anticipen el abandono de clientes."
      ],
      "metadata": {
        "id": "iqqvzXO_euD8"
      }
    },
    {
      "cell_type": "markdown",
      "source": [
        "-------"
      ],
      "metadata": {
        "id": "e6TJJnoCfkcO"
      }
    },
    {
      "cell_type": "markdown",
      "source": [
        "## Lo que se practicó"
      ],
      "metadata": {
        "id": "Evm0VcttfmAB"
      }
    },
    {
      "cell_type": "markdown",
      "source": [
        "Durante este proyecto se practicaron y aplicaron habilidades esenciales de Ciencia de Datos, tales como:"
      ],
      "metadata": {
        "id": "lHfrm7rbfrJr"
      }
    },
    {
      "cell_type": "markdown",
      "source": [
        "\n",
        "*  Importación y manipulación de datos estructurados en formado JSON.\n",
        "*   Aplicación del proceso **ETL** (Extracción, Transformación y Carga).\n",
        "*   Análisis exploratorio de datos (EDA) con visualizaciones significativas.\n",
        "*   Tratamiento de datos faltantes y detección de incoherencias.\n",
        "*   Conversión y normalización de variables categóricas y numéricas.\n",
        "*   Evaluación de correlaciones entre variables.\n",
        "*   Generación de un informe final estructurado y redactado en entorno colaborativo.\n",
        "\n",
        "\n",
        "\n",
        "\n",
        "\n",
        "\n"
      ],
      "metadata": {
        "id": "f7PQ6oQpf5pu"
      }
    },
    {
      "cell_type": "markdown",
      "source": [
        "-----"
      ],
      "metadata": {
        "id": "WhODl9Cfgm0P"
      }
    },
    {
      "cell_type": "markdown",
      "source": [
        "## Estructura del análisis"
      ],
      "metadata": {
        "id": "ltreEtQ7gn8A"
      }
    },
    {
      "cell_type": "markdown",
      "source": [
        "### Extracción de datos"
      ],
      "metadata": {
        "id": "Xuid1ZjfgrJU"
      }
    },
    {
      "cell_type": "markdown",
      "source": [
        "- Los datos fueron cargados a partir de archivos en formato JSON, representando información de clientes, servicios contratados y facturación mensual."
      ],
      "metadata": {
        "id": "HYaMcWKkgt3f"
      }
    },
    {
      "cell_type": "markdown",
      "source": [
        "### Transformación"
      ],
      "metadata": {
        "id": "TeHCIaSmhCLZ"
      }
    },
    {
      "cell_type": "markdown",
      "source": [
        "### Transformación\n",
        "\n"
      ],
      "metadata": {
        "id": "s2dUjas7hFGI"
      }
    },
    {
      "cell_type": "markdown",
      "source": [
        "#### Conocer el conjunto de  datos"
      ],
      "metadata": {
        "id": "SXPmiGEXhMZv"
      }
    },
    {
      "cell_type": "markdown",
      "source": [
        "\n",
        "*   Se identificaron valores nulos en columnas clave como `cargo_total`.\n",
        "*   Se eliminaron o transformaron registros con datos incompletos.\n",
        "\n"
      ],
      "metadata": {
        "id": "7XuG8xjKhQVF"
      }
    },
    {
      "cell_type": "markdown",
      "source": [
        "#### Creación de la columna de cuentas diarias"
      ],
      "metadata": {
        "id": "dohyi5PKhafY"
      }
    },
    {
      "cell_type": "markdown",
      "source": [
        "-Se creó la variable `cargo_diario`, obtenida al dividir `cargo_mensual` por 30 para estimar el valor diario facturado."
      ],
      "metadata": {
        "id": "nomGzv9Uhf_b"
      }
    },
    {
      "cell_type": "markdown",
      "source": [
        "#### Estandarización y transformación de  datos"
      ],
      "metadata": {
        "id": "OE9vj3yyhne4"
      }
    },
    {
      "cell_type": "markdown",
      "source": [
        "\n",
        "*   Se renombraron todas las columnas a español, en formato snake_case.\n",
        "*   Se transformaron variables categóricas binarias (`Yes/No`) a numéricas (`1/0`).\n",
        "*   Se creó una nueva variable `cantidad_servicios` que suma todos los servicios contratados por cliente.\n",
        "\n",
        "\n",
        "\n",
        "\n"
      ],
      "metadata": {
        "id": "xfw2KmCXhwzZ"
      }
    },
    {
      "cell_type": "markdown",
      "source": [
        "###  Carga y Análisis (L – Load & Analysis)"
      ],
      "metadata": {
        "id": "VpHkt2A5iUXi"
      }
    },
    {
      "cell_type": "markdown",
      "source": [
        "#### Análisis descriptivo"
      ],
      "metadata": {
        "id": "fP-a3UJqiZ7O"
      }
    },
    {
      "cell_type": "markdown",
      "source": [
        "- Se usó `.describe()` para obtener estadísticas clave de variables numéricas."
      ],
      "metadata": {
        "id": "ZDhsIdsSjaIJ"
      }
    },
    {
      "cell_type": "markdown",
      "source": [
        "#### Distribución de evasión"
      ],
      "metadata": {
        "id": "n4xyaq2ujgPG"
      }
    },
    {
      "cell_type": "markdown",
      "source": [
        "- Se generó un gráfico de barras para visualizar la proporción de clientes que abandonan versus los que permanecen."
      ],
      "metadata": {
        "id": "R9WtMbn-jl2M"
      }
    },
    {
      "cell_type": "markdown",
      "source": [
        "#### Recuento de evasión por variables categóricas"
      ],
      "metadata": {
        "id": "R-8NTZg7jpUE"
      }
    },
    {
      "cell_type": "markdown",
      "source": [
        "- Se agruparon los datos por columnas categóricas como `tipo_contrato`, `metodo_pago`, `pareja`, etc., visualizando la proporción de abandono por categoría."
      ],
      "metadata": {
        "id": "HJt6Ul9zjwSJ"
      }
    },
    {
      "cell_type": "markdown",
      "source": [
        "#### Conteo de evasión por variables numéricas"
      ],
      "metadata": {
        "id": "WmulXa9zj0Id"
      }
    },
    {
      "cell_type": "markdown",
      "source": [
        "- Se utilizaron boxplots para explorar cómo variables como `meses_contrato`, `cargo_total` y `cargo_diario` se distribuyen entre quienes abandonan y quienes permanecen."
      ],
      "metadata": {
        "id": "Eqn8bxLGj5df"
      }
    },
    {
      "cell_type": "markdown",
      "source": [
        "### Tarea Extra"
      ],
      "metadata": {
        "id": "GwIjt6DXj9in"
      }
    },
    {
      "cell_type": "markdown",
      "source": [
        "#### Análisis de correlación entre variables"
      ],
      "metadata": {
        "id": "GKGxV1qnkDQR"
      }
    },
    {
      "cell_type": "markdown",
      "source": [
        "- Se utilizó la función `.corr()` y un mapa de calor para visualizar la fuerza de la relación entre `churn` y otras variables numéricas.\n",
        "- Se concluyó que `meses_contrato` y `cantidad_servicios` tienen fuerte relación negativa con la evasión."
      ],
      "metadata": {
        "id": "9-03axV1kHbb"
      }
    },
    {
      "cell_type": "markdown",
      "source": [
        "### Informe Final"
      ],
      "metadata": {
        "id": "i-oydPPxkNOZ"
      }
    },
    {
      "cell_type": "markdown",
      "source": [
        "- El informe fue redactado directamente en el archivo `.ipynb`, incluyendo secciones de introducción, tratamiento de datos, análisis y conclusiones.\n",
        "- Cada sección está acompañada de texto en formato Markdown y referencias a visualizaciones relevantes."
      ],
      "metadata": {
        "id": "S4YffB1JkQMZ"
      }
    },
    {
      "cell_type": "markdown",
      "source": [
        "---"
      ],
      "metadata": {
        "id": "HJg1LmXfkTez"
      }
    },
    {
      "cell_type": "markdown",
      "source": [
        "## Visualizaciones"
      ],
      "metadata": {
        "id": "GHXaCQmMkUgU"
      }
    },
    {
      "cell_type": "markdown",
      "source": [
        "El análisis incluye múltiples visualizaciones como:"
      ],
      "metadata": {
        "id": "r5eicemrkXMJ"
      }
    },
    {
      "cell_type": "markdown",
      "source": [
        "- Gráficos de barras para evasión.\n",
        "- Gráficos apilados por variables categóricas.\n",
        "- Boxplots para variables numéricas vs. churn.\n",
        "- Heatmap de correlaciones entre variables.\n",
        "\n",
        "Todas las visualizaciones están incluidas directamente en el notebook y referenciadas en las secciones correspondientes.\n",
        "\n",
        "---"
      ],
      "metadata": {
        "id": "VOPsh-DSkcG5"
      }
    },
    {
      "cell_type": "markdown",
      "source": [
        "## Recomendaciones finales"
      ],
      "metadata": {
        "id": "wZ_Snsopkfx0"
      }
    },
    {
      "cell_type": "markdown",
      "source": [
        "- Incentivar contratos a largo plazo, dado que la duración es la variable más inversamente correlacionada con el churn.\n",
        "- Promover paquetes con múltiples servicios, ya que se observó menor abandono entre clientes con mayor cantidad de servicios contratados.\n",
        "- Revisar estrategias de precios, especialmente para quienes enfrentan altos cargos mensuales.\n",
        "- Priorizar acciones sobre clientes sin pareja o dependientes, quienes muestran mayor tendencia a abandonar.\n",
        "\n",
        "---"
      ],
      "metadata": {
        "id": "yt0iFatdkiav"
      }
    },
    {
      "cell_type": "markdown",
      "source": [
        "## Herramientras utilizadas"
      ],
      "metadata": {
        "id": "SRT1HMbnklud"
      }
    },
    {
      "cell_type": "markdown",
      "source": [
        "- **Lenguaje de programación:** Python\n",
        "- **Entorno:** Google Colab\n",
        "- **Bibliotecas:**  \n",
        "  - `pandas` para manipulación de datos  \n",
        "  - `matplotlib` y `seaborn` para visualizaciones  \n",
        "  - `numpy` para operaciones numéricas\n",
        "- **Formato de datos:** JSON\n",
        "- **Asistencia y mentoría:** ChatGPT (OpenAI)\n",
        "\n",
        "---"
      ],
      "metadata": {
        "id": "32mwPDkzko1a"
      }
    },
    {
      "cell_type": "markdown",
      "source": [
        "## Cómo ejecutar el proyecto"
      ],
      "metadata": {
        "id": "SUZ4se20kvfO"
      }
    },
    {
      "cell_type": "markdown",
      "source": [
        "1. Clona este repositorio en tu equipo local o en Google Colab:\n",
        "\n",
        "```bash\n",
        "git clone https://github.com/Joselo225/Challenge_TelecomX_Latam\n",
        "\n",
        "2. Abre el archivo TelecomX_Churn_Analisis.ipynb en Google Colab o Jupyter Notebook.\n",
        "\n",
        "3. Ejecuta las celdas paso a paso para revisar el análisis completo y sus resultados.\n",
        "\n",
        "Gracias por visitar este repositorio.\n",
        "¡Transformar datos en decisiones nunca fue tan poderoso! 🚀\n"
      ],
      "metadata": {
        "id": "AT5f_jWOkywX"
      }
    }
  ]
}